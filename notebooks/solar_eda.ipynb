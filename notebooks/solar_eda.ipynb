{
 "cells": [
  {
   "cell_type": "code",
   "execution_count": 1,
   "metadata": {},
   "outputs": [],
   "source": [
    "# Import necessary libraries\n",
    "import pandas as pd\n",
    "import numpy as np\n"
   ]
  },
  {
   "cell_type": "code",
   "execution_count": 5,
   "metadata": {},
   "outputs": [],
   "source": [
    "# Load the dataset (replace this with the actual file names for each country)\n",
    "df_benin = pd.read_csv('C:/Users/user/Desktop/SolarProjectW0/data/benin-malanville.csv')  # Change with the correct filename\n",
    "df_sierra_leone = pd.read_csv('C:/Users/user/Desktop/SolarProjectW0/data/sierraleone-bumbuna.csv')  # Change with the correct filename\n",
    "df_togo = pd.read_csv('C:/Users/user/Desktop/SolarProjectW0/data/togo-dapaong_qc.csv')  # Change with the correct filename\n"
   ]
  },
  {
   "cell_type": "code",
   "execution_count": 6,
   "metadata": {},
   "outputs": [
    {
     "name": "stdout",
     "output_type": "stream",
     "text": [
      "          Timestamp  GHI  DNI  DHI  ModA  ModB  Tamb    RH   WS  WSgust  \\\n",
      "0  2021-08-09 00:01 -1.2 -0.2 -1.1   0.0   0.0  26.2  93.4  0.0     0.4   \n",
      "1  2021-08-09 00:02 -1.1 -0.2 -1.1   0.0   0.0  26.2  93.6  0.0     0.0   \n",
      "2  2021-08-09 00:03 -1.1 -0.2 -1.1   0.0   0.0  26.2  93.7  0.3     1.1   \n",
      "3  2021-08-09 00:04 -1.1 -0.1 -1.0   0.0   0.0  26.2  93.3  0.2     0.7   \n",
      "4  2021-08-09 00:05 -1.0 -0.1 -1.0   0.0   0.0  26.2  93.3  0.1     0.7   \n",
      "\n",
      "   WSstdev     WD  WDstdev   BP  Cleaning  Precipitation  TModA  TModB  \\\n",
      "0      0.1  122.1      0.0  998         0            0.0   26.3   26.2   \n",
      "1      0.0    0.0      0.0  998         0            0.0   26.3   26.2   \n",
      "2      0.5  124.6      1.5  997         0            0.0   26.4   26.2   \n",
      "3      0.4  120.3      1.3  997         0            0.0   26.4   26.3   \n",
      "4      0.3  113.2      1.0  997         0            0.0   26.4   26.3   \n",
      "\n",
      "   Comments  \n",
      "0       NaN  \n",
      "1       NaN  \n",
      "2       NaN  \n",
      "3       NaN  \n",
      "4       NaN  \n",
      "          Timestamp  GHI  DNI  DHI  ModA  ModB  Tamb    RH   WS  WSgust  \\\n",
      "0  2021-10-30 00:01 -0.7 -0.1 -0.8   0.0   0.0  21.9  99.1  0.0     0.0   \n",
      "1  2021-10-30 00:02 -0.7 -0.1 -0.8   0.0   0.0  21.9  99.2  0.0     0.0   \n",
      "2  2021-10-30 00:03 -0.7 -0.1 -0.8   0.0   0.0  21.9  99.2  0.0     0.0   \n",
      "3  2021-10-30 00:04 -0.7  0.0 -0.8   0.0   0.0  21.9  99.3  0.0     0.0   \n",
      "4  2021-10-30 00:05 -0.7 -0.1 -0.8   0.0   0.0  21.9  99.3  0.0     0.0   \n",
      "\n",
      "   WSstdev   WD  WDstdev    BP  Cleaning  Precipitation  TModA  TModB  \\\n",
      "0      0.0  0.0      0.0  1002         0            0.0   22.3   22.6   \n",
      "1      0.0  0.0      0.0  1002         0            0.0   22.3   22.6   \n",
      "2      0.0  0.0      0.0  1002         0            0.0   22.3   22.6   \n",
      "3      0.0  0.0      0.0  1002         0            0.1   22.3   22.6   \n",
      "4      0.0  0.0      0.0  1002         0            0.0   22.3   22.6   \n",
      "\n",
      "   Comments  \n",
      "0       NaN  \n",
      "1       NaN  \n",
      "2       NaN  \n",
      "3       NaN  \n",
      "4       NaN  \n",
      "          Timestamp  GHI  DNI  DHI  ModA  ModB  Tamb    RH   WS  WSgust  \\\n",
      "0  2021-10-25 00:01 -1.3  0.0  0.0   0.0   0.0  24.8  94.5  0.9     1.1   \n",
      "1  2021-10-25 00:02 -1.3  0.0  0.0   0.0   0.0  24.8  94.4  1.1     1.6   \n",
      "2  2021-10-25 00:03 -1.3  0.0  0.0   0.0   0.0  24.8  94.4  1.2     1.4   \n",
      "3  2021-10-25 00:04 -1.2  0.0  0.0   0.0   0.0  24.8  94.3  1.2     1.6   \n",
      "4  2021-10-25 00:05 -1.2  0.0  0.0   0.0   0.0  24.8  94.0  1.3     1.6   \n",
      "\n",
      "   WSstdev     WD  WDstdev   BP  Cleaning  Precipitation  TModA  TModB  \\\n",
      "0      0.4  227.6      1.1  977         0            0.0   24.7   24.4   \n",
      "1      0.4  229.3      0.7  977         0            0.0   24.7   24.4   \n",
      "2      0.3  228.5      2.9  977         0            0.0   24.7   24.4   \n",
      "3      0.3  229.1      4.6  977         0            0.0   24.7   24.4   \n",
      "4      0.4  227.5      1.6  977         0            0.0   24.7   24.4   \n",
      "\n",
      "   Comments  \n",
      "0       NaN  \n",
      "1       NaN  \n",
      "2       NaN  \n",
      "3       NaN  \n",
      "4       NaN  \n"
     ]
    }
   ],
   "source": [
    "# Display the first few rows of each dataset to check if it loaded properly\n",
    "print(df_benin.head())  # Displays the first 5 rows of the Benin dataset\n",
    "print(df_sierra_leone.head())  # Displays the first 5 rows of the Sierra Leone dataset\n",
    "print(df_togo.head())  # Displays the first 5 rows of the Togo dataset\n"
   ]
  },
  {
   "cell_type": "code",
   "execution_count": 7,
   "metadata": {},
   "outputs": [
    {
     "name": "stdout",
     "output_type": "stream",
     "text": [
      "Benin Dataset Missing Values:\n",
      "Timestamp             0\n",
      "GHI                   0\n",
      "DNI                   0\n",
      "DHI                   0\n",
      "ModA                  0\n",
      "ModB                  0\n",
      "Tamb                  0\n",
      "RH                    0\n",
      "WS                    0\n",
      "WSgust                0\n",
      "WSstdev               0\n",
      "WD                    0\n",
      "WDstdev               0\n",
      "BP                    0\n",
      "Cleaning              0\n",
      "Precipitation         0\n",
      "TModA                 0\n",
      "TModB                 0\n",
      "Comments         525600\n",
      "dtype: int64\n",
      "\n",
      "Sierra Leone Dataset Missing Values:\n",
      "Timestamp             0\n",
      "GHI                   0\n",
      "DNI                   0\n",
      "DHI                   0\n",
      "ModA                  0\n",
      "ModB                  0\n",
      "Tamb                  0\n",
      "RH                    0\n",
      "WS                    0\n",
      "WSgust                0\n",
      "WSstdev               0\n",
      "WD                    0\n",
      "WDstdev               0\n",
      "BP                    0\n",
      "Cleaning              0\n",
      "Precipitation         0\n",
      "TModA                 0\n",
      "TModB                 0\n",
      "Comments         525600\n",
      "dtype: int64\n",
      "\n",
      "Togo Dataset Missing Values:\n",
      "Timestamp             0\n",
      "GHI                   0\n",
      "DNI                   0\n",
      "DHI                   0\n",
      "ModA                  0\n",
      "ModB                  0\n",
      "Tamb                  0\n",
      "RH                    0\n",
      "WS                    0\n",
      "WSgust                0\n",
      "WSstdev               0\n",
      "WD                    0\n",
      "WDstdev               0\n",
      "BP                    0\n",
      "Cleaning              0\n",
      "Precipitation         0\n",
      "TModA                 0\n",
      "TModB                 0\n",
      "Comments         525600\n",
      "dtype: int64\n"
     ]
    }
   ],
   "source": [
    "# Check for missing values in each dataset\n",
    "print(\"Benin Dataset Missing Values:\")\n",
    "print(df_benin.isnull().sum())  # Shows the count of missing values for each column in Benin\n",
    "\n",
    "print(\"\\nSierra Leone Dataset Missing Values:\")\n",
    "print(df_sierra_leone.isnull().sum())  # Shows the count of missing values for each column in Sierra Leone\n",
    "\n",
    "print(\"\\nTogo Dataset Missing Values:\")\n",
    "print(df_togo.isnull().sum())  # Shows the count of missing values for each column in Togo\n"
   ]
  },
  {
   "cell_type": "code",
   "execution_count": 8,
   "metadata": {},
   "outputs": [
    {
     "name": "stdout",
     "output_type": "stream",
     "text": [
      "Benin Dataset Summary Statistics:\n",
      "                 GHI            DNI            DHI           ModA  \\\n",
      "count  525600.000000  525600.000000  525600.000000  525600.000000   \n",
      "mean      240.559452     167.187516     115.358961     236.589496   \n",
      "std       331.131327     261.710501     158.691074     326.894859   \n",
      "min       -12.900000      -7.800000     -12.600000       0.000000   \n",
      "25%        -2.000000      -0.500000      -2.100000       0.000000   \n",
      "50%         1.800000      -0.100000       1.600000       4.500000   \n",
      "75%       483.400000     314.200000     216.300000     463.700000   \n",
      "max      1413.000000     952.300000     759.200000    1342.300000   \n",
      "\n",
      "                ModB           Tamb             RH             WS  \\\n",
      "count  525600.000000  525600.000000  525600.000000  525600.000000   \n",
      "mean      228.883576      28.179683      54.487969       2.121113   \n",
      "std       316.536515       5.924297      28.073069       1.603466   \n",
      "min         0.000000      11.000000       2.100000       0.000000   \n",
      "25%         0.000000      24.200000      28.800000       1.000000   \n",
      "50%         4.300000      28.000000      55.100000       1.900000   \n",
      "75%       447.900000      32.300000      80.100000       3.100000   \n",
      "max      1342.300000      43.800000     100.000000      19.500000   \n",
      "\n",
      "              WSgust        WSstdev             WD        WDstdev  \\\n",
      "count  525600.000000  525600.000000  525600.000000  525600.000000   \n",
      "mean        2.809195       0.473390     153.435172       8.582407   \n",
      "std         2.029120       0.273395     102.332842       6.385864   \n",
      "min         0.000000       0.000000       0.000000       0.000000   \n",
      "25%         1.300000       0.400000      59.000000       3.700000   \n",
      "50%         2.600000       0.500000     181.000000       8.600000   \n",
      "75%         4.100000       0.600000     235.100000      12.300000   \n",
      "max        26.600000       4.200000     360.000000      99.400000   \n",
      "\n",
      "                  BP       Cleaning  Precipitation          TModA  \\\n",
      "count  525600.000000  525600.000000  525600.000000  525600.000000   \n",
      "mean      994.197199       0.000923       0.001905      35.246026   \n",
      "std         2.474993       0.030363       0.037115      14.807258   \n",
      "min       985.000000       0.000000       0.000000       9.000000   \n",
      "25%       993.000000       0.000000       0.000000      24.200000   \n",
      "50%       994.000000       0.000000       0.000000      30.000000   \n",
      "75%       996.000000       0.000000       0.000000      46.900000   \n",
      "max      1003.000000       1.000000       2.500000      81.000000   \n",
      "\n",
      "               TModB  Comments  \n",
      "count  525600.000000       0.0  \n",
      "mean       32.471736       NaN  \n",
      "std        12.348743       NaN  \n",
      "min         8.100000       NaN  \n",
      "25%        23.600000       NaN  \n",
      "50%        28.900000       NaN  \n",
      "75%        41.500000       NaN  \n",
      "max        72.500000       NaN  \n",
      "\n",
      "Sierra Leone Dataset Summary Statistics:\n",
      "                 GHI            DNI            DHI           ModA  \\\n",
      "count  525600.000000  525600.000000  525600.000000  525600.000000   \n",
      "mean      201.957515     116.376337     113.720571     206.643095   \n",
      "std       298.495150     218.652659     158.946032     300.896893   \n",
      "min       -19.500000      -7.800000     -17.900000       0.000000   \n",
      "25%        -2.800000      -0.300000      -3.800000       0.000000   \n",
      "50%         0.300000      -0.100000      -0.100000       3.600000   \n",
      "75%       362.400000     107.000000     224.700000     359.500000   \n",
      "max      1499.000000     946.000000     892.000000    1507.000000   \n",
      "\n",
      "                ModB           Tamb             RH             WS  \\\n",
      "count  525600.000000  525600.000000  525600.000000  525600.000000   \n",
      "mean      198.114691      26.319394      79.448857       1.146113   \n",
      "std       288.889073       4.398605      20.520775       1.239248   \n",
      "min         0.000000      12.300000       9.900000       0.000000   \n",
      "25%         0.000000      23.100000      68.700000       0.000000   \n",
      "50%         3.400000      25.300000      85.400000       0.800000   \n",
      "75%       345.400000      29.400000      96.700000       2.000000   \n",
      "max      1473.000000      39.900000     100.000000      19.200000   \n",
      "\n",
      "              WSgust        WSstdev             WD        WDstdev  \\\n",
      "count  525600.000000  525600.000000  525600.000000  525600.000000   \n",
      "mean        1.691606       0.363823     133.044668       7.172220   \n",
      "std         1.617053       0.295000     114.284792       7.535093   \n",
      "min         0.000000       0.000000       0.000000       0.000000   \n",
      "25%         0.000000       0.000000       0.000000       0.000000   \n",
      "50%         1.600000       0.400000     161.500000       6.200000   \n",
      "75%         2.600000       0.600000     234.100000      12.000000   \n",
      "max        23.900000       4.100000     360.000000      98.400000   \n",
      "\n",
      "                  BP       Cleaning  Precipitation          TModA  \\\n",
      "count  525600.000000  525600.000000  525600.000000  525600.000000   \n",
      "mean      999.876469       0.000967       0.004806      32.504263   \n",
      "std         2.104419       0.031074       0.047556      12.434899   \n",
      "min       993.000000       0.000000       0.000000      10.700000   \n",
      "25%       999.000000       0.000000       0.000000      23.500000   \n",
      "50%      1000.000000       0.000000       0.000000      26.600000   \n",
      "75%      1001.000000       0.000000       0.000000      40.900000   \n",
      "max      1006.000000       1.000000       2.400000      72.800000   \n",
      "\n",
      "               TModB  Comments  \n",
      "count  525600.000000       0.0  \n",
      "mean       32.593091       NaN  \n",
      "std        12.009161       NaN  \n",
      "min        11.100000       NaN  \n",
      "25%        23.800000       NaN  \n",
      "50%        26.900000       NaN  \n",
      "75%        41.300000       NaN  \n",
      "max        70.400000       NaN  \n",
      "\n",
      "Togo Dataset Summary Statistics:\n",
      "                 GHI            DNI            DHI           ModA  \\\n",
      "count  525600.000000  525600.000000  525600.000000  525600.000000   \n",
      "mean      230.555040     151.258469     116.444352     226.144375   \n",
      "std       322.532347     250.956962     156.520714     317.346938   \n",
      "min       -12.700000       0.000000       0.000000       0.000000   \n",
      "25%        -2.200000       0.000000       0.000000       0.000000   \n",
      "50%         2.100000       0.000000       2.500000       4.400000   \n",
      "75%       442.400000     246.400000     215.700000     422.525000   \n",
      "max      1424.000000    1004.500000     805.700000    1380.000000   \n",
      "\n",
      "                ModB           Tamb             RH             WS  \\\n",
      "count  525600.000000  525600.000000  525600.000000  525600.000000   \n",
      "mean      219.568588      27.751788      55.013160       2.368093   \n",
      "std       307.932510       4.758023      28.778732       1.462668   \n",
      "min         0.000000      14.900000       3.300000       0.000000   \n",
      "25%         0.000000      24.200000      26.500000       1.400000   \n",
      "50%         4.300000      27.200000      59.300000       2.200000   \n",
      "75%       411.000000      31.100000      80.800000       3.200000   \n",
      "max      1367.000000      41.400000      99.800000      16.100000   \n",
      "\n",
      "              WSgust        WSstdev             WD        WDstdev  \\\n",
      "count  525600.000000  525600.000000  525600.000000  525600.000000   \n",
      "mean        3.229490       0.557740     161.741845      10.559568   \n",
      "std         1.882565       0.268923      91.877217       5.915490   \n",
      "min         0.000000       0.000000       0.000000       0.000000   \n",
      "25%         1.900000       0.400000      74.800000       6.900000   \n",
      "50%         2.900000       0.500000     199.100000      10.800000   \n",
      "75%         4.400000       0.700000     233.500000      14.100000   \n",
      "max        23.100000       4.700000     360.000000      86.900000   \n",
      "\n",
      "                  BP       Cleaning  Precipitation          TModA  \\\n",
      "count  525600.000000  525600.000000  525600.000000  525600.000000   \n",
      "mean      975.915242       0.000535       0.001382      32.444403   \n",
      "std         2.153977       0.023116       0.026350      10.998334   \n",
      "min       968.000000       0.000000       0.000000      13.100000   \n",
      "25%       975.000000       0.000000       0.000000      23.900000   \n",
      "50%       976.000000       0.000000       0.000000      28.400000   \n",
      "75%       977.000000       0.000000       0.000000      40.600000   \n",
      "max       983.000000       1.000000       2.300000      70.400000   \n",
      "\n",
      "               TModB  Comments  \n",
      "count  525600.000000       0.0  \n",
      "mean       33.543330       NaN  \n",
      "std        12.769277       NaN  \n",
      "min        13.100000       NaN  \n",
      "25%        23.600000       NaN  \n",
      "50%        28.400000       NaN  \n",
      "75%        43.000000       NaN  \n",
      "max        94.600000       NaN  \n"
     ]
    }
   ],
   "source": [
    "# Display summary statistics for each dataset\n",
    "print(\"Benin Dataset Summary Statistics:\")\n",
    "print(df_benin.describe())  # Summary statistics for Benin\n",
    "\n",
    "print(\"\\nSierra Leone Dataset Summary Statistics:\")\n",
    "print(df_sierra_leone.describe())  # Summary statistics for Sierra Leone\n",
    "\n",
    "print(\"\\nTogo Dataset Summary Statistics:\")\n",
    "print(df_togo.describe())  # Summary statistics for Togo\n"
   ]
  },
  {
   "cell_type": "code",
   "execution_count": null,
   "metadata": {},
   "outputs": [
    {
     "ename": "NameError",
     "evalue": "name 'df_benin' is not defined",
     "output_type": "error",
     "traceback": [
      "\u001b[1;31m---------------------------------------------------------------------------\u001b[0m",
      "\u001b[1;31mNameError\u001b[0m                                 Traceback (most recent call last)",
      "Cell \u001b[1;32mIn[1], line 5\u001b[0m\n\u001b[0;32m      3\u001b[0m \u001b[38;5;66;03m# Plot GHI, DNI, and DHI over time for Benin\u001b[39;00m\n\u001b[0;32m      4\u001b[0m plt\u001b[38;5;241m.\u001b[39mfigure(figsize\u001b[38;5;241m=\u001b[39m(\u001b[38;5;241m10\u001b[39m, \u001b[38;5;241m6\u001b[39m))\n\u001b[1;32m----> 5\u001b[0m plt\u001b[38;5;241m.\u001b[39mplot(\u001b[43mdf_benin\u001b[49m[\u001b[38;5;124m'\u001b[39m\u001b[38;5;124mTimestamp\u001b[39m\u001b[38;5;124m'\u001b[39m], df_benin[\u001b[38;5;124m'\u001b[39m\u001b[38;5;124mGHI\u001b[39m\u001b[38;5;124m'\u001b[39m], label\u001b[38;5;241m=\u001b[39m\u001b[38;5;124m'\u001b[39m\u001b[38;5;124mGHI\u001b[39m\u001b[38;5;124m'\u001b[39m)\n\u001b[0;32m      6\u001b[0m plt\u001b[38;5;241m.\u001b[39mplot(df_benin[\u001b[38;5;124m'\u001b[39m\u001b[38;5;124mTimestamp\u001b[39m\u001b[38;5;124m'\u001b[39m], df_benin[\u001b[38;5;124m'\u001b[39m\u001b[38;5;124mDNI\u001b[39m\u001b[38;5;124m'\u001b[39m], label\u001b[38;5;241m=\u001b[39m\u001b[38;5;124m'\u001b[39m\u001b[38;5;124mDNI\u001b[39m\u001b[38;5;124m'\u001b[39m)\n\u001b[0;32m      7\u001b[0m plt\u001b[38;5;241m.\u001b[39mplot(df_benin[\u001b[38;5;124m'\u001b[39m\u001b[38;5;124mTimestamp\u001b[39m\u001b[38;5;124m'\u001b[39m], df_benin[\u001b[38;5;124m'\u001b[39m\u001b[38;5;124mDHI\u001b[39m\u001b[38;5;124m'\u001b[39m], label\u001b[38;5;241m=\u001b[39m\u001b[38;5;124m'\u001b[39m\u001b[38;5;124mDHI\u001b[39m\u001b[38;5;124m'\u001b[39m)\n",
      "\u001b[1;31mNameError\u001b[0m: name 'df_benin' is not defined"
     ]
    },
    {
     "data": {
      "text/plain": [
       "<Figure size 1000x600 with 0 Axes>"
      ]
     },
     "metadata": {},
     "output_type": "display_data"
    }
   ],
   "source": [
    "import matplotlib.pyplot as plt\n",
    "\n",
    "# Plot GHI, DNI, and DHI over time for Benin\n",
    "plt.figure(figsize=(10, 6))\n",
    "plt.plot(df_benin['Timestamp'], df_benin['GHI'], label='GHI')\n",
    "plt.plot(df_benin['Timestamp'], df_benin['DNI'], label='DNI')\n",
    "plt.plot(df_benin['Timestamp'], df_benin['DHI'], label='DHI')\n",
    "plt.xlabel('Time')\n",
    "plt.ylabel('Solar Irradiance (W/m²)')\n",
    "plt.title('Solar Radiation over Time (Benin)')\n",
    "plt.legend()\n",
    "plt.xticks(rotation=45)\n",
    "plt.tight_layout()\n",
    "plt.show()\n"
   ]
  },
  {
   "cell_type": "code",
   "execution_count": 3,
   "metadata": {},
   "outputs": [
    {
     "ename": "NameError",
     "evalue": "name 'df_benin' is not defined",
     "output_type": "error",
     "traceback": [
      "\u001b[1;31m---------------------------------------------------------------------------\u001b[0m",
      "\u001b[1;31mNameError\u001b[0m                                 Traceback (most recent call last)",
      "Cell \u001b[1;32mIn[3], line 4\u001b[0m\n\u001b[0;32m      1\u001b[0m \u001b[38;5;28;01mimport\u001b[39;00m \u001b[38;5;21;01mseaborn\u001b[39;00m \u001b[38;5;28;01mas\u001b[39;00m \u001b[38;5;21;01msns\u001b[39;00m\n\u001b[0;32m      3\u001b[0m \u001b[38;5;66;03m# Correlation matrix for Benin\u001b[39;00m\n\u001b[1;32m----> 4\u001b[0m corr \u001b[38;5;241m=\u001b[39m \u001b[43mdf_benin\u001b[49m[[\u001b[38;5;124m'\u001b[39m\u001b[38;5;124mGHI\u001b[39m\u001b[38;5;124m'\u001b[39m, \u001b[38;5;124m'\u001b[39m\u001b[38;5;124mDNI\u001b[39m\u001b[38;5;124m'\u001b[39m, \u001b[38;5;124m'\u001b[39m\u001b[38;5;124mDHI\u001b[39m\u001b[38;5;124m'\u001b[39m, \u001b[38;5;124m'\u001b[39m\u001b[38;5;124mTamb\u001b[39m\u001b[38;5;124m'\u001b[39m, \u001b[38;5;124m'\u001b[39m\u001b[38;5;124mWS\u001b[39m\u001b[38;5;124m'\u001b[39m]]\u001b[38;5;241m.\u001b[39mcorr()\n\u001b[0;32m      5\u001b[0m sns\u001b[38;5;241m.\u001b[39mheatmap(corr, annot\u001b[38;5;241m=\u001b[39m\u001b[38;5;28;01mTrue\u001b[39;00m, cmap\u001b[38;5;241m=\u001b[39m\u001b[38;5;124m'\u001b[39m\u001b[38;5;124mcoolwarm\u001b[39m\u001b[38;5;124m'\u001b[39m)\n\u001b[0;32m      6\u001b[0m plt\u001b[38;5;241m.\u001b[39mtitle(\u001b[38;5;124m'\u001b[39m\u001b[38;5;124mCorrelation Matrix (Benin)\u001b[39m\u001b[38;5;124m'\u001b[39m)\n",
      "\u001b[1;31mNameError\u001b[0m: name 'df_benin' is not defined"
     ]
    }
   ],
   "source": [
    "import seaborn as sns\n",
    "\n",
    "# Correlation matrix for Benin\n",
    "corr = df_benin[['GHI', 'DNI', 'DHI', 'Tamb', 'WS']].corr()\n",
    "sns.heatmap(corr, annot=True, cmap='coolwarm')\n",
    "plt.title('Correlation Matrix (Benin)')\n",
    "plt.show()\n"
   ]
  },
  {
   "cell_type": "code",
   "execution_count": null,
   "metadata": {},
   "outputs": [],
   "source": [
    "# Fill missing values with the median\n",
    "df_benin.fillna(df_benin.median(), inplace=True)\n",
    "\n",
    "# Verify that missing values are filled\n",
    "print(df_benin.isnull().sum())\n"
   ]
  },
  {
   "cell_type": "code",
   "execution_count": null,
   "metadata": {},
   "outputs": [],
   "source": [
    "# Remove rows where GHI is less than 0 (invalid data)\n",
    "df_benin = df_benin[df_benin['GHI'] >= 0]\n",
    "\n",
    "# Verify the changes\n",
    "print(df_benin.head())\n"
   ]
  },
  {
   "cell_type": "code",
   "execution_count": null,
   "metadata": {},
   "outputs": [],
   "source": [
    "# Save the cleaned data to a new CSV file\n",
    "df_benin.to_csv('../data/cleaned_solar_data_benin.csv', index=False)\n"
   ]
  },
  {
   "cell_type": "code",
   "execution_count": null,
   "metadata": {},
   "outputs": [],
   "source": [
    "# Check for missing values in Sierra Leone dataset\n",
    "print(\"Sierra Leone Dataset Missing Values:\")\n",
    "print(df_sierra_leone.isnull().sum())  # Shows the count of missing values for each column\n",
    "\n",
    "# Check for missing values in Togo dataset\n",
    "print(\"\\nTogo Dataset Missing Values:\")\n",
    "print(df_togo.isnull().sum())  # Shows the count of missing values for each column\n"
   ]
  },
  {
   "cell_type": "code",
   "execution_count": null,
   "metadata": {},
   "outputs": [],
   "source": [
    "# Display summary statistics for Sierra Leone dataset\n",
    "print(\"Sierra Leone Dataset Summary Statistics:\")\n",
    "print(df_sierra_leone.describe())  # Summary statistics for Sierra Leone\n",
    "\n",
    "# Display summary statistics for Togo dataset\n",
    "print(\"\\nTogo Dataset Summary Statistics:\")\n",
    "print(df_togo.describe())  # Summary statistics for Togo\n"
   ]
  },
  {
   "cell_type": "code",
   "execution_count": null,
   "metadata": {},
   "outputs": [],
   "source": [
    "import matplotlib.pyplot as plt\n",
    "\n",
    "# Plot GHI, DNI, and DHI over time for Sierra Leone\n",
    "plt.figure(figsize=(10, 6))\n",
    "plt.plot(df_sierra_leone['Timestamp'], df_sierra_leone['GHI'], label='GHI')\n",
    "plt.plot(df_sierra_leone['Timestamp'], df_sierra_leone['DNI'], label='DNI')\n",
    "plt.plot(df_sierra_leone['Timestamp'], df_sierra_leone['DHI'], label='DHI')\n",
    "plt.xlabel('Time')\n",
    "plt.ylabel('Solar Irradiance (W/m²)')\n",
    "plt.title('Solar Radiation over Time (Sierra Leone)')\n",
    "plt.legend()\n",
    "plt.xticks(rotation=45)\n",
    "plt.tight_layout()\n",
    "plt.show()\n",
    "\n",
    "# Plot GHI, DNI, and DHI over time for Togo\n",
    "plt.figure(figsize=(10, 6))\n",
    "plt.plot(df_togo['Timestamp'], df_togo['GHI'], label='GHI')\n",
    "plt.plot(df_togo['Timestamp'], df_togo['DNI'], label='DNI')\n",
    "plt.plot(df_togo['Timestamp'], df_togo['DHI'], label='DHI')\n",
    "plt.xlabel('Time')\n",
    "plt.ylabel('Solar Irradiance (W/m²)')\n",
    "plt.title('Solar Radiation over Time (Togo)')\n",
    "plt.legend()\n",
    "plt.xticks(rotation=45)\n",
    "plt.tight_layout()\n",
    "plt.show()\n"
   ]
  },
  {
   "cell_type": "code",
   "execution_count": null,
   "metadata": {},
   "outputs": [],
   "source": [
    "import seaborn as sns\n",
    "\n",
    "# Correlation matrix for Sierra Leone\n",
    "corr_sierra_leone = df_sierra_leone[['GHI', 'DNI', 'DHI', 'Tamb', 'WS']].corr()\n",
    "sns.heatmap(corr_sierra_leone, annot=True, cmap='coolwarm')\n",
    "plt.title('Correlation Matrix (Sierra Leone)')\n",
    "plt.show()\n",
    "\n",
    "# Correlation matrix for Togo\n",
    "corr_togo = df_togo[['GHI', 'DNI', 'DHI', 'Tamb', 'WS']].corr()\n",
    "sns.heatmap(corr_togo, annot=True, cmap='coolwarm')\n",
    "plt.title('Correlation Matrix (Togo)')\n",
    "plt.show()\n"
   ]
  },
  {
   "cell_type": "code",
   "execution_count": null,
   "metadata": {},
   "outputs": [],
   "source": [
    "# Fill missing values with the median for Sierra Leone\n",
    "df_sierra_leone.fillna(df_sierra_leone.median(), inplace=True)\n",
    "\n",
    "# Fill missing values with the median for Togo\n",
    "df_togo.fillna(df_togo.median(), inplace=True)\n",
    "\n",
    "# Verify that missing values are filled\n",
    "print(\"Sierra Leone Dataset Missing Values After Filling:\")\n",
    "print(df_sierra_leone.isnull().sum())\n",
    "\n",
    "print(\"\\nTogo Dataset Missing Values After Filling:\")\n",
    "print(df_togo.isnull().sum())\n"
   ]
  },
  {
   "cell_type": "code",
   "execution_count": null,
   "metadata": {},
   "outputs": [],
   "source": [
    "# Remove rows where GHI is less than 0 in Sierra Leone\n",
    "df_sierra_leone = df_sierra_leone[df_sierra_leone['GHI'] >= 0]\n",
    "\n",
    "# Remove rows where GHI is less than 0 in Togo\n",
    "df_togo = df_togo[df_togo['GHI'] >= 0]\n",
    "\n",
    "# Verify the changes\n",
    "print(\"Sierra Leone Dataset After Removing Invalid Data:\")\n",
    "print(df_sierra_leone.head())\n",
    "\n",
    "print(\"\\nTogo Dataset After Removing Invalid Data:\")\n",
    "print(df_togo.head())\n"
   ]
  },
  {
   "cell_type": "code",
   "execution_count": null,
   "metadata": {},
   "outputs": [],
   "source": [
    "# Save the cleaned Sierra Leone dataset\n",
    "df_sierra_leone.to_csv('../data/cleaned_solar_data_sierra_leone.csv', index=False)\n",
    "\n",
    "# Save the cleaned Togo dataset\n",
    "df_togo.to_csv('../data/cleaned_solar_data_togo.csv', index=False)\n"
   ]
  },
  {
   "cell_type": "code",
   "execution_count": null,
   "metadata": {},
   "outputs": [],
   "source": [
    "# Add a 'Country' column to each dataset\n",
    "df_benin['Country'] = 'Benin'\n",
    "df_sierra_leone['Country'] = 'Sierra Leone'\n",
    "df_togo['Country'] = 'Togo'\n",
    "\n",
    "# Merge all datasets into one DataFrame\n",
    "df_all = pd.concat([df_benin, df_sierra_leone, df_togo], ignore_index=True)\n",
    "\n",
    "# Display the first few rows of the combined dataset\n",
    "print(df_all.head())\n"
   ]
  },
  {
   "cell_type": "code",
   "execution_count": null,
   "metadata": {},
   "outputs": [],
   "source": [
    "# Display the first few rows of the merged dataset\n",
    "print(df_all.head())\n",
    "\n",
    "# Check how many rows are in the merged dataset\n",
    "print(\"\\nTotal rows in the merged dataset:\", len(df_all))\n",
    "\n",
    "# Count the number of rows per country\n",
    "print(\"\\nNumber of rows per country:\")\n",
    "print(df_all['Country'].value_counts())\n"
   ]
  },
  {
   "cell_type": "code",
   "execution_count": null,
   "metadata": {},
   "outputs": [],
   "source": [
    "# Calculate the mean GHI for each country\n",
    "mean_ghi = df_all.groupby('Country')['GHI'].mean()\n",
    "print(\"Average GHI by Country:\")\n",
    "print(mean_ghi)\n",
    "\n",
    "# Plot a bar chart for average GHI by country\n",
    "mean_ghi.plot(kind='bar', title='Average GHI by Country', ylabel='GHI (W/m²)', xlabel='Country', color=['blue', 'orange', 'green'])\n",
    "plt.tight_layout()\n",
    "plt.show()\n"
   ]
  },
  {
   "cell_type": "code",
   "execution_count": null,
   "metadata": {},
   "outputs": [],
   "source": [
    "import seaborn as sns\n",
    "\n",
    "# Box plot of GHI by Country\n",
    "sns.boxplot(x='Country', y='GHI', data=df_all)\n",
    "plt.title('Distribution of GHI by Country')\n",
    "plt.ylabel('GHI (W/m²)')\n",
    "plt.xlabel('Country')\n",
    "plt.show()\n"
   ]
  },
  {
   "cell_type": "code",
   "execution_count": null,
   "metadata": {},
   "outputs": [],
   "source": [
    "# Save the merged dataset to a new CSV file\n",
    "df_all.to_csv('../data/final_solar_data.csv', index=False)\n",
    "\n",
    "print(\"Final merged dataset saved as 'final_solar_data.csv'.\")\n"
   ]
  },
  {
   "cell_type": "code",
   "execution_count": null,
   "metadata": {},
   "outputs": [],
   "source": [
    "# Plot time series for GHI, DNI, and DHI over time for the combined dataset\n",
    "plt.figure(figsize=(12, 6))\n",
    "plt.plot(df_all['Timestamp'], df_all['GHI'], label='GHI')\n",
    "plt.plot(df_all['Timestamp'], df_all['DNI'], label='DNI')\n",
    "plt.plot(df_all['Timestamp'], df_all['DHI'], label='DHI')\n",
    "plt.xlabel('Timestamp')\n",
    "plt.ylabel('Solar Irradiance (W/m²)')\n",
    "plt.title('Time Series of Solar Radiation (All Countries)')\n",
    "plt.legend()\n",
    "plt.xticks(rotation=45)\n",
    "plt.tight_layout()\n",
    "plt.show()\n"
   ]
  },
  {
   "cell_type": "code",
   "execution_count": null,
   "metadata": {},
   "outputs": [],
   "source": [
    "# Correlation matrix for all numeric variables\n",
    "corr_matrix = df_all[['GHI', 'DNI', 'DHI', 'Tamb', 'WS']].corr()\n",
    "\n",
    "# Plot a heatmap for the correlation matrix\n",
    "sns.heatmap(corr_matrix, annot=True, cmap='coolwarm')\n",
    "plt.title('Correlation Matrix (All Countries)')\n",
    "plt.show()\n"
   ]
  },
  {
   "cell_type": "code",
   "execution_count": null,
   "metadata": {},
   "outputs": [],
   "source": [
    "# Wind analysis: Visualize wind speed (WS) and direction (WD)\n",
    "sns.scatterplot(x='WD', y='WS', hue='Country', data=df_all)\n",
    "plt.title('Wind Speed vs. Wind Direction (All Countries)')\n",
    "plt.xlabel('Wind Direction (°)')\n",
    "plt.ylabel('Wind Speed (m/s)')\n",
    "plt.legend(title='Country')\n",
    "plt.show()\n"
   ]
  },
  {
   "cell_type": "code",
   "execution_count": null,
   "metadata": {},
   "outputs": [],
   "source": [
    "# Plot temperature (Tamb) vs. relative humidity (RH)\n",
    "sns.scatterplot(x='RH', y='Tamb', hue='Country', data=df_all)\n",
    "plt.title('Temperature vs. Relative Humidity (All Countries)')\n",
    "plt.xlabel('Relative Humidity (%)')\n",
    "plt.ylabel('Ambient Temperature (°C)')\n",
    "plt.legend(title='Country')\n",
    "plt.show()\n"
   ]
  },
  {
   "cell_type": "code",
   "execution_count": null,
   "metadata": {},
   "outputs": [],
   "source": [
    "# Histogram for GHI\n",
    "plt.hist(df_all['GHI'], bins=30, alpha=0.7, label='GHI')\n",
    "plt.title('Histogram of GHI')\n",
    "plt.xlabel('GHI (W/m²)')\n",
    "plt.ylabel('Frequency')\n",
    "plt.show()\n",
    "\n",
    "# Histogram for DNI\n",
    "plt.hist(df_all['DNI'], bins=30, alpha=0.7, label='DNI', color='orange')\n",
    "plt.title('Histogram of DNI')\n",
    "plt.xlabel('DNI (W/m²)')\n",
    "plt.ylabel('Frequency')\n",
    "plt.show()\n"
   ]
  },
  {
   "cell_type": "code",
   "execution_count": null,
   "metadata": {},
   "outputs": [],
   "source": [
    "# Save the last plot as an image file\n",
    "plt.savefig('../data/ghi_time_series.png', dpi=300, bbox_inches='tight')\n"
   ]
  },
  {
   "cell_type": "code",
   "execution_count": null,
   "metadata": {},
   "outputs": [],
   "source": [
    "# Calculate overall averages for key variables\n",
    "overall_means = df_all.groupby('Country')[['GHI', 'DNI', 'DHI', 'Tamb', 'WS']].mean()\n",
    "print(\"Average values by country:\")\n",
    "print(overall_means)\n",
    "\n",
    "# Save the summary table to a CSV file\n",
    "overall_means.to_csv('../data/summary_statistics.csv', index=True)\n",
    "print(\"Summary statistics saved as 'summary_statistics.csv'\")\n"
   ]
  },
  {
   "cell_type": "code",
   "execution_count": null,
   "metadata": {},
   "outputs": [],
   "source": [
    "# Save the cleaned and merged dataset to a CSV file\n",
    "df_all.to_csv('../data/final_cleaned_solar_data.csv', index=False)\n",
    "print(\"Final merged dataset saved as 'final_cleaned_solar_data.csv'\")\n"
   ]
  },
  {
   "cell_type": "code",
   "execution_count": null,
   "metadata": {},
   "outputs": [],
   "source": [
    "# Display the first few rows of the merged dataset\n",
    "print(\"First few rows of the merged dataset:\")\n",
    "print(df_all.head())\n",
    "\n",
    "# Check the total number of rows and rows per country\n",
    "print(\"\\nTotal rows in the merged dataset:\", len(df_all))\n",
    "print(\"\\nNumber of rows per country:\")\n",
    "print(df_all['Country'].value_counts())\n"
   ]
  },
  {
   "cell_type": "code",
   "execution_count": null,
   "metadata": {},
   "outputs": [],
   "source": [
    "# Plot a bar chart for average GHI by country\n",
    "mean_ghi = df_all.groupby('Country')['GHI'].mean()\n",
    "mean_ghi.plot(kind='bar', title='Average GHI by Country', ylabel='GHI (W/m²)', xlabel='Country', color=['blue', 'orange', 'green'])\n",
    "plt.tight_layout()\n",
    "plt.show()\n"
   ]
  },
  {
   "cell_type": "code",
   "execution_count": null,
   "metadata": {},
   "outputs": [],
   "source": [
    "import seaborn as sns\n",
    "\n",
    "# Box plot of GHI by Country\n",
    "sns.boxplot(x='Country', y='GHI', data=df_all)\n",
    "plt.title('Distribution of GHI by Country')\n",
    "plt.ylabel('GHI (W/m²)')\n",
    "plt.xlabel('Country')\n",
    "plt.show()\n"
   ]
  },
  {
   "cell_type": "code",
   "execution_count": null,
   "metadata": {},
   "outputs": [],
   "source": [
    "# Scatter plot of Wind Speed vs. Wind Direction\n",
    "sns.scatterplot(x='WD', y='WS', hue='Country', data=df_all)\n",
    "plt.title('Wind Speed vs. Wind Direction (All Countries)')\n",
    "plt.xlabel('Wind Direction (°)')\n",
    "plt.ylabel('Wind Speed (m/s)')\n",
    "plt.legend(title='Country')\n",
    "plt.show()\n"
   ]
  },
  {
   "cell_type": "code",
   "execution_count": null,
   "metadata": {},
   "outputs": [],
   "source": [
    "plt.savefig('../data/ghi_time_series.png', dpi=300, bbox_inches='tight')\n"
   ]
  },
  {
   "cell_type": "code",
   "execution_count": null,
   "metadata": {},
   "outputs": [],
   "source": []
  }
 ],
 "metadata": {
  "kernelspec": {
   "display_name": "venv",
   "language": "python",
   "name": "python3"
  },
  "language_info": {
   "codemirror_mode": {
    "name": "ipython",
    "version": 3
   },
   "file_extension": ".py",
   "mimetype": "text/x-python",
   "name": "python",
   "nbconvert_exporter": "python",
   "pygments_lexer": "ipython3",
   "version": "3.13.1"
  }
 },
 "nbformat": 4,
 "nbformat_minor": 2
}
