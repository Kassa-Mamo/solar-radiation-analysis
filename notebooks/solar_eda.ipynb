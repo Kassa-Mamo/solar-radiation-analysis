{
 "cells": [
  {
   "cell_type": "code",
   "execution_count": null,
   "metadata": {
    "vscode": {
     "languageId": "plaintext"
    }
   },
   "outputs": [],
   "source": [
    "# Import necessary libraries\n",
    "import pandas as pd\n",
    "import numpy as np\n"
   ]
  },
  {
   "cell_type": "code",
   "execution_count": null,
   "metadata": {
    "vscode": {
     "languageId": "plaintext"
    }
   },
   "outputs": [],
   "source": [
    "# Load the dataset (replace this with the actual file names for each country)\n",
    "df_benin = pd.read_csv('../data/solar_data_benin.csv')  # Change with the correct filename\n",
    "df_sierra_leone = pd.read_csv('../data/solar_data_sierra_leone.csv')  # Change with the correct filename\n",
    "df_togo = pd.read_csv('../data/solar_data_togo.csv')  # Change with the correct filename\n"
   ]
  },
  {
   "cell_type": "code",
   "execution_count": null,
   "metadata": {
    "vscode": {
     "languageId": "plaintext"
    }
   },
   "outputs": [],
   "source": [
    "# Display the first few rows of each dataset to check if it loaded properly\n",
    "print(df_benin.head())  # Displays the first 5 rows of the Benin dataset\n",
    "print(df_sierra_leone.head())  # Displays the first 5 rows of the Sierra Leone dataset\n",
    "print(df_togo.head())  # Displays the first 5 rows of the Togo dataset\n"
   ]
  },
  {
   "cell_type": "code",
   "execution_count": null,
   "metadata": {
    "vscode": {
     "languageId": "plaintext"
    }
   },
   "outputs": [],
   "source": [
    "# Check for missing values in each dataset\n",
    "print(\"Benin Dataset Missing Values:\")\n",
    "print(df_benin.isnull().sum())  # Shows the count of missing values for each column in Benin\n",
    "\n",
    "print(\"\\nSierra Leone Dataset Missing Values:\")\n",
    "print(df_sierra_leone.isnull().sum())  # Shows the count of missing values for each column in Sierra Leone\n",
    "\n",
    "print(\"\\nTogo Dataset Missing Values:\")\n",
    "print(df_togo.isnull().sum())  # Shows the count of missing values for each column in Togo\n"
   ]
  },
  {
   "cell_type": "code",
   "execution_count": null,
   "metadata": {
    "vscode": {
     "languageId": "plaintext"
    }
   },
   "outputs": [],
   "source": [
    "# Display summary statistics for each dataset\n",
    "print(\"Benin Dataset Summary Statistics:\")\n",
    "print(df_benin.describe())  # Summary statistics for Benin\n",
    "\n",
    "print(\"\\nSierra Leone Dataset Summary Statistics:\")\n",
    "print(df_sierra_leone.describe())  # Summary statistics for Sierra Leone\n",
    "\n",
    "print(\"\\nTogo Dataset Summary Statistics:\")\n",
    "print(df_togo.describe())  # Summary statistics for Togo\n"
   ]
  },
  {
   "cell_type": "code",
   "execution_count": null,
   "metadata": {
    "vscode": {
     "languageId": "plaintext"
    }
   },
   "outputs": [],
   "source": [
    "import matplotlib.pyplot as plt\n",
    "\n",
    "# Plot GHI, DNI, and DHI over time for Benin\n",
    "plt.figure(figsize=(10, 6))\n",
    "plt.plot(df_benin['Timestamp'], df_benin['GHI'], label='GHI')\n",
    "plt.plot(df_benin['Timestamp'], df_benin['DNI'], label='DNI')\n",
    "plt.plot(df_benin['Timestamp'], df_benin['DHI'], label='DHI')\n",
    "plt.xlabel('Time')\n",
    "plt.ylabel('Solar Irradiance (W/m²)')\n",
    "plt.title('Solar Radiation over Time (Benin)')\n",
    "plt.legend()\n",
    "plt.xticks(rotation=45)\n",
    "plt.tight_layout()\n",
    "plt.show()\n"
   ]
  },
  {
   "cell_type": "code",
   "execution_count": null,
   "metadata": {
    "vscode": {
     "languageId": "plaintext"
    }
   },
   "outputs": [],
   "source": [
    "import seaborn as sns\n",
    "\n",
    "# Correlation matrix for Benin\n",
    "corr = df_benin[['GHI', 'DNI', 'DHI', 'Tamb', 'WS']].corr()\n",
    "sns.heatmap(corr, annot=True, cmap='coolwarm')\n",
    "plt.title('Correlation Matrix (Benin)')\n",
    "plt.show()\n"
   ]
  },
  {
   "cell_type": "code",
   "execution_count": null,
   "metadata": {
    "vscode": {
     "languageId": "plaintext"
    }
   },
   "outputs": [],
   "source": [
    "# Fill missing values with the median\n",
    "df_benin.fillna(df_benin.median(), inplace=True)\n",
    "\n",
    "# Verify that missing values are filled\n",
    "print(df_benin.isnull().sum())\n"
   ]
  },
  {
   "cell_type": "code",
   "execution_count": null,
   "metadata": {
    "vscode": {
     "languageId": "plaintext"
    }
   },
   "outputs": [],
   "source": [
    "# Remove rows where GHI is less than 0 (invalid data)\n",
    "df_benin = df_benin[df_benin['GHI'] >= 0]\n",
    "\n",
    "# Verify the changes\n",
    "print(df_benin.head())\n"
   ]
  },
  {
   "cell_type": "code",
   "execution_count": null,
   "metadata": {
    "vscode": {
     "languageId": "plaintext"
    }
   },
   "outputs": [],
   "source": [
    "# Save the cleaned data to a new CSV file\n",
    "df_benin.to_csv('../data/cleaned_solar_data_benin.csv', index=False)\n"
   ]
  },
  {
   "cell_type": "code",
   "execution_count": null,
   "metadata": {
    "vscode": {
     "languageId": "plaintext"
    }
   },
   "outputs": [],
   "source": [
    "# Check for missing values in Sierra Leone dataset\n",
    "print(\"Sierra Leone Dataset Missing Values:\")\n",
    "print(df_sierra_leone.isnull().sum())  # Shows the count of missing values for each column\n",
    "\n",
    "# Check for missing values in Togo dataset\n",
    "print(\"\\nTogo Dataset Missing Values:\")\n",
    "print(df_togo.isnull().sum())  # Shows the count of missing values for each column\n"
   ]
  },
  {
   "cell_type": "code",
   "execution_count": null,
   "metadata": {
    "vscode": {
     "languageId": "plaintext"
    }
   },
   "outputs": [],
   "source": [
    "# Display summary statistics for Sierra Leone dataset\n",
    "print(\"Sierra Leone Dataset Summary Statistics:\")\n",
    "print(df_sierra_leone.describe())  # Summary statistics for Sierra Leone\n",
    "\n",
    "# Display summary statistics for Togo dataset\n",
    "print(\"\\nTogo Dataset Summary Statistics:\")\n",
    "print(df_togo.describe())  # Summary statistics for Togo\n"
   ]
  },
  {
   "cell_type": "code",
   "execution_count": null,
   "metadata": {
    "vscode": {
     "languageId": "plaintext"
    }
   },
   "outputs": [],
   "source": [
    "import matplotlib.pyplot as plt\n",
    "\n",
    "# Plot GHI, DNI, and DHI over time for Sierra Leone\n",
    "plt.figure(figsize=(10, 6))\n",
    "plt.plot(df_sierra_leone['Timestamp'], df_sierra_leone['GHI'], label='GHI')\n",
    "plt.plot(df_sierra_leone['Timestamp'], df_sierra_leone['DNI'], label='DNI')\n",
    "plt.plot(df_sierra_leone['Timestamp'], df_sierra_leone['DHI'], label='DHI')\n",
    "plt.xlabel('Time')\n",
    "plt.ylabel('Solar Irradiance (W/m²)')\n",
    "plt.title('Solar Radiation over Time (Sierra Leone)')\n",
    "plt.legend()\n",
    "plt.xticks(rotation=45)\n",
    "plt.tight_layout()\n",
    "plt.show()\n",
    "\n",
    "# Plot GHI, DNI, and DHI over time for Togo\n",
    "plt.figure(figsize=(10, 6))\n",
    "plt.plot(df_togo['Timestamp'], df_togo['GHI'], label='GHI')\n",
    "plt.plot(df_togo['Timestamp'], df_togo['DNI'], label='DNI')\n",
    "plt.plot(df_togo['Timestamp'], df_togo['DHI'], label='DHI')\n",
    "plt.xlabel('Time')\n",
    "plt.ylabel('Solar Irradiance (W/m²)')\n",
    "plt.title('Solar Radiation over Time (Togo)')\n",
    "plt.legend()\n",
    "plt.xticks(rotation=45)\n",
    "plt.tight_layout()\n",
    "plt.show()\n"
   ]
  },
  {
   "cell_type": "code",
   "execution_count": null,
   "metadata": {
    "vscode": {
     "languageId": "plaintext"
    }
   },
   "outputs": [],
   "source": [
    "import seaborn as sns\n",
    "\n",
    "# Correlation matrix for Sierra Leone\n",
    "corr_sierra_leone = df_sierra_leone[['GHI', 'DNI', 'DHI', 'Tamb', 'WS']].corr()\n",
    "sns.heatmap(corr_sierra_leone, annot=True, cmap='coolwarm')\n",
    "plt.title('Correlation Matrix (Sierra Leone)')\n",
    "plt.show()\n",
    "\n",
    "# Correlation matrix for Togo\n",
    "corr_togo = df_togo[['GHI', 'DNI', 'DHI', 'Tamb', 'WS']].corr()\n",
    "sns.heatmap(corr_togo, annot=True, cmap='coolwarm')\n",
    "plt.title('Correlation Matrix (Togo)')\n",
    "plt.show()\n"
   ]
  },
  {
   "cell_type": "code",
   "execution_count": null,
   "metadata": {
    "vscode": {
     "languageId": "plaintext"
    }
   },
   "outputs": [],
   "source": [
    "# Fill missing values with the median for Sierra Leone\n",
    "df_sierra_leone.fillna(df_sierra_leone.median(), inplace=True)\n",
    "\n",
    "# Fill missing values with the median for Togo\n",
    "df_togo.fillna(df_togo.median(), inplace=True)\n",
    "\n",
    "# Verify that missing values are filled\n",
    "print(\"Sierra Leone Dataset Missing Values After Filling:\")\n",
    "print(df_sierra_leone.isnull().sum())\n",
    "\n",
    "print(\"\\nTogo Dataset Missing Values After Filling:\")\n",
    "print(df_togo.isnull().sum())\n"
   ]
  },
  {
   "cell_type": "code",
   "execution_count": null,
   "metadata": {
    "vscode": {
     "languageId": "plaintext"
    }
   },
   "outputs": [],
   "source": [
    "# Remove rows where GHI is less than 0 in Sierra Leone\n",
    "df_sierra_leone = df_sierra_leone[df_sierra_leone['GHI'] >= 0]\n",
    "\n",
    "# Remove rows where GHI is less than 0 in Togo\n",
    "df_togo = df_togo[df_togo['GHI'] >= 0]\n",
    "\n",
    "# Verify the changes\n",
    "print(\"Sierra Leone Dataset After Removing Invalid Data:\")\n",
    "print(df_sierra_leone.head())\n",
    "\n",
    "print(\"\\nTogo Dataset After Removing Invalid Data:\")\n",
    "print(df_togo.head())\n"
   ]
  },
  {
   "cell_type": "code",
   "execution_count": null,
   "metadata": {
    "vscode": {
     "languageId": "plaintext"
    }
   },
   "outputs": [],
   "source": [
    "# Save the cleaned Sierra Leone dataset\n",
    "df_sierra_leone.to_csv('../data/cleaned_solar_data_sierra_leone.csv', index=False)\n",
    "\n",
    "# Save the cleaned Togo dataset\n",
    "df_togo.to_csv('../data/cleaned_solar_data_togo.csv', index=False)\n"
   ]
  },
  {
   "cell_type": "code",
   "execution_count": null,
   "metadata": {
    "vscode": {
     "languageId": "plaintext"
    }
   },
   "outputs": [],
   "source": [
    "# Add a 'Country' column to each dataset\n",
    "df_benin['Country'] = 'Benin'\n",
    "df_sierra_leone['Country'] = 'Sierra Leone'\n",
    "df_togo['Country'] = 'Togo'\n",
    "\n",
    "# Merge all datasets into one DataFrame\n",
    "df_all = pd.concat([df_benin, df_sierra_leone, df_togo], ignore_index=True)\n",
    "\n",
    "# Display the first few rows of the combined dataset\n",
    "print(df_all.head())\n"
   ]
  },
  {
   "cell_type": "code",
   "execution_count": null,
   "metadata": {
    "vscode": {
     "languageId": "plaintext"
    }
   },
   "outputs": [],
   "source": [
    "# Display the first few rows of the merged dataset\n",
    "print(df_all.head())\n",
    "\n",
    "# Check how many rows are in the merged dataset\n",
    "print(\"\\nTotal rows in the merged dataset:\", len(df_all))\n",
    "\n",
    "# Count the number of rows per country\n",
    "print(\"\\nNumber of rows per country:\")\n",
    "print(df_all['Country'].value_counts())\n"
   ]
  },
  {
   "cell_type": "code",
   "execution_count": null,
   "metadata": {
    "vscode": {
     "languageId": "plaintext"
    }
   },
   "outputs": [],
   "source": [
    "# Calculate the mean GHI for each country\n",
    "mean_ghi = df_all.groupby('Country')['GHI'].mean()\n",
    "print(\"Average GHI by Country:\")\n",
    "print(mean_ghi)\n",
    "\n",
    "# Plot a bar chart for average GHI by country\n",
    "mean_ghi.plot(kind='bar', title='Average GHI by Country', ylabel='GHI (W/m²)', xlabel='Country', color=['blue', 'orange', 'green'])\n",
    "plt.tight_layout()\n",
    "plt.show()\n"
   ]
  },
  {
   "cell_type": "code",
   "execution_count": null,
   "metadata": {
    "vscode": {
     "languageId": "plaintext"
    }
   },
   "outputs": [],
   "source": [
    "import seaborn as sns\n",
    "\n",
    "# Box plot of GHI by Country\n",
    "sns.boxplot(x='Country', y='GHI', data=df_all)\n",
    "plt.title('Distribution of GHI by Country')\n",
    "plt.ylabel('GHI (W/m²)')\n",
    "plt.xlabel('Country')\n",
    "plt.show()\n"
   ]
  },
  {
   "cell_type": "code",
   "execution_count": null,
   "metadata": {
    "vscode": {
     "languageId": "plaintext"
    }
   },
   "outputs": [],
   "source": [
    "# Save the merged dataset to a new CSV file\n",
    "df_all.to_csv('../data/final_solar_data.csv', index=False)\n",
    "\n",
    "print(\"Final merged dataset saved as 'final_solar_data.csv'.\")\n"
   ]
  },
  {
   "cell_type": "code",
   "execution_count": null,
   "metadata": {
    "vscode": {
     "languageId": "plaintext"
    }
   },
   "outputs": [],
   "source": [
    "# Plot time series for GHI, DNI, and DHI over time for the combined dataset\n",
    "plt.figure(figsize=(12, 6))\n",
    "plt.plot(df_all['Timestamp'], df_all['GHI'], label='GHI')\n",
    "plt.plot(df_all['Timestamp'], df_all['DNI'], label='DNI')\n",
    "plt.plot(df_all['Timestamp'], df_all['DHI'], label='DHI')\n",
    "plt.xlabel('Timestamp')\n",
    "plt.ylabel('Solar Irradiance (W/m²)')\n",
    "plt.title('Time Series of Solar Radiation (All Countries)')\n",
    "plt.legend()\n",
    "plt.xticks(rotation=45)\n",
    "plt.tight_layout()\n",
    "plt.show()\n"
   ]
  },
  {
   "cell_type": "code",
   "execution_count": null,
   "metadata": {
    "vscode": {
     "languageId": "plaintext"
    }
   },
   "outputs": [],
   "source": [
    "# Correlation matrix for all numeric variables\n",
    "corr_matrix = df_all[['GHI', 'DNI', 'DHI', 'Tamb', 'WS']].corr()\n",
    "\n",
    "# Plot a heatmap for the correlation matrix\n",
    "sns.heatmap(corr_matrix, annot=True, cmap='coolwarm')\n",
    "plt.title('Correlation Matrix (All Countries)')\n",
    "plt.show()\n"
   ]
  },
  {
   "cell_type": "code",
   "execution_count": null,
   "metadata": {
    "vscode": {
     "languageId": "plaintext"
    }
   },
   "outputs": [],
   "source": [
    "# Wind analysis: Visualize wind speed (WS) and direction (WD)\n",
    "sns.scatterplot(x='WD', y='WS', hue='Country', data=df_all)\n",
    "plt.title('Wind Speed vs. Wind Direction (All Countries)')\n",
    "plt.xlabel('Wind Direction (°)')\n",
    "plt.ylabel('Wind Speed (m/s)')\n",
    "plt.legend(title='Country')\n",
    "plt.show()\n"
   ]
  },
  {
   "cell_type": "code",
   "execution_count": null,
   "metadata": {
    "vscode": {
     "languageId": "plaintext"
    }
   },
   "outputs": [],
   "source": [
    "# Plot temperature (Tamb) vs. relative humidity (RH)\n",
    "sns.scatterplot(x='RH', y='Tamb', hue='Country', data=df_all)\n",
    "plt.title('Temperature vs. Relative Humidity (All Countries)')\n",
    "plt.xlabel('Relative Humidity (%)')\n",
    "plt.ylabel('Ambient Temperature (°C)')\n",
    "plt.legend(title='Country')\n",
    "plt.show()\n"
   ]
  },
  {
   "cell_type": "code",
   "execution_count": null,
   "metadata": {
    "vscode": {
     "languageId": "plaintext"
    }
   },
   "outputs": [],
   "source": [
    "# Histogram for GHI\n",
    "plt.hist(df_all['GHI'], bins=30, alpha=0.7, label='GHI')\n",
    "plt.title('Histogram of GHI')\n",
    "plt.xlabel('GHI (W/m²)')\n",
    "plt.ylabel('Frequency')\n",
    "plt.show()\n",
    "\n",
    "# Histogram for DNI\n",
    "plt.hist(df_all['DNI'], bins=30, alpha=0.7, label='DNI', color='orange')\n",
    "plt.title('Histogram of DNI')\n",
    "plt.xlabel('DNI (W/m²)')\n",
    "plt.ylabel('Frequency')\n",
    "plt.show()\n"
   ]
  },
  {
   "cell_type": "code",
   "execution_count": null,
   "metadata": {
    "vscode": {
     "languageId": "plaintext"
    }
   },
   "outputs": [],
   "source": [
    "# Save the last plot as an image file\n",
    "plt.savefig('../data/ghi_time_series.png', dpi=300, bbox_inches='tight')\n"
   ]
  },
  {
   "cell_type": "code",
   "execution_count": null,
   "metadata": {
    "vscode": {
     "languageId": "plaintext"
    }
   },
   "outputs": [],
   "source": [
    "# Calculate overall averages for key variables\n",
    "overall_means = df_all.groupby('Country')[['GHI', 'DNI', 'DHI', 'Tamb', 'WS']].mean()\n",
    "print(\"Average values by country:\")\n",
    "print(overall_means)\n",
    "\n",
    "# Save the summary table to a CSV file\n",
    "overall_means.to_csv('../data/summary_statistics.csv', index=True)\n",
    "print(\"Summary statistics saved as 'summary_statistics.csv'\")\n"
   ]
  },
  {
   "cell_type": "code",
   "execution_count": null,
   "metadata": {
    "vscode": {
     "languageId": "plaintext"
    }
   },
   "outputs": [],
   "source": [
    "# Save the cleaned and merged dataset to a CSV file\n",
    "df_all.to_csv('../data/final_cleaned_solar_data.csv', index=False)\n",
    "print(\"Final merged dataset saved as 'final_cleaned_solar_data.csv'\")\n"
   ]
  },
  {
   "cell_type": "code",
   "execution_count": null,
   "metadata": {
    "vscode": {
     "languageId": "plaintext"
    }
   },
   "outputs": [],
   "source": [
    "# Display the first few rows of the merged dataset\n",
    "print(\"First few rows of the merged dataset:\")\n",
    "print(df_all.head())\n",
    "\n",
    "# Check the total number of rows and rows per country\n",
    "print(\"\\nTotal rows in the merged dataset:\", len(df_all))\n",
    "print(\"\\nNumber of rows per country:\")\n",
    "print(df_all['Country'].value_counts())\n"
   ]
  },
  {
   "cell_type": "code",
   "execution_count": null,
   "metadata": {
    "vscode": {
     "languageId": "plaintext"
    }
   },
   "outputs": [],
   "source": [
    "# Plot a bar chart for average GHI by country\n",
    "mean_ghi = df_all.groupby('Country')['GHI'].mean()\n",
    "mean_ghi.plot(kind='bar', title='Average GHI by Country', ylabel='GHI (W/m²)', xlabel='Country', color=['blue', 'orange', 'green'])\n",
    "plt.tight_layout()\n",
    "plt.show()\n"
   ]
  },
  {
   "cell_type": "code",
   "execution_count": null,
   "metadata": {
    "vscode": {
     "languageId": "plaintext"
    }
   },
   "outputs": [],
   "source": [
    "import seaborn as sns\n",
    "\n",
    "# Box plot of GHI by Country\n",
    "sns.boxplot(x='Country', y='GHI', data=df_all)\n",
    "plt.title('Distribution of GHI by Country')\n",
    "plt.ylabel('GHI (W/m²)')\n",
    "plt.xlabel('Country')\n",
    "plt.show()\n"
   ]
  },
  {
   "cell_type": "code",
   "execution_count": null,
   "metadata": {
    "vscode": {
     "languageId": "plaintext"
    }
   },
   "outputs": [],
   "source": [
    "# Scatter plot of Wind Speed vs. Wind Direction\n",
    "sns.scatterplot(x='WD', y='WS', hue='Country', data=df_all)\n",
    "plt.title('Wind Speed vs. Wind Direction (All Countries)')\n",
    "plt.xlabel('Wind Direction (°)')\n",
    "plt.ylabel('Wind Speed (m/s)')\n",
    "plt.legend(title='Country')\n",
    "plt.show()\n"
   ]
  },
  {
   "cell_type": "code",
   "execution_count": null,
   "metadata": {
    "vscode": {
     "languageId": "plaintext"
    }
   },
   "outputs": [],
   "source": []
  }
 ],
 "metadata": {
  "language_info": {
   "name": "python"
  }
 },
 "nbformat": 4,
 "nbformat_minor": 2
}
